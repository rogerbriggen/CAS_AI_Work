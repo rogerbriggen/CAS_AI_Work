{
 "cells": [
  {
   "cell_type": "markdown",
   "metadata": {
    "id": "0dsLhRKWNc-8"
   },
   "source": [
    "## Manuell"
   ]
  },
  {
   "cell_type": "code",
   "execution_count": 3,
   "metadata": {
    "executionInfo": {
     "elapsed": 369,
     "status": "ok",
     "timestamp": 1730192997328,
     "user": {
      "displayName": "Roger Briggen",
      "userId": "03435179165522252011"
     },
     "user_tz": -60
    },
    "id": "eq3WmXsBC5l1"
   },
   "outputs": [],
   "source": [
    "import numpy as np"
   ]
  },
  {
   "cell_type": "markdown",
   "metadata": {
    "id": "3o7ntaanJL7M"
   },
   "source": [
    "- Natürliche Zahlen\n",
    "- Ganze Zahlen\n",
    "- Rationale Zahlen\n",
    "- Rationale Zahlen und Irrationale Zahlen - > R\n",
    "- Complexe Zahlen (Quantum Comp und Frequenz-Analyse) -> C schliesst R ein"
   ]
  },
  {
   "cell_type": "code",
   "execution_count": 4,
   "metadata": {
    "executionInfo": {
     "elapsed": 2,
     "status": "ok",
     "timestamp": 1730192997583,
     "user": {
      "displayName": "Roger Briggen",
      "userId": "03435179165522252011"
     },
     "user_tz": -60
    },
    "id": "THF8UAiAC5ml"
   },
   "outputs": [],
   "source": [
    "X = [1,2,3,4,5,6,7,8,9,10]\n",
    "X = np.array(X).astype(np.float32)"
   ]
  },
  {
   "cell_type": "code",
   "execution_count": 5,
   "metadata": {
    "colab": {
     "base_uri": "https://localhost:8080/"
    },
    "executionInfo": {
     "elapsed": 270,
     "status": "ok",
     "timestamp": 1730136773637,
     "user": {
      "displayName": "Ilja Rasin",
      "userId": "18166776380552111636"
     },
     "user_tz": -60
    },
    "id": "wQDuAIuFIsI7",
    "outputId": "0928cc16-60d5-459b-a57f-6a95a0821f52"
   },
   "outputs": [
    {
     "data": {
      "text/plain": [
       "array([ 1.,  2.,  3.,  4.,  5.,  6.,  7.,  8.,  9., 10.], dtype=float32)"
      ]
     },
     "execution_count": 5,
     "metadata": {},
     "output_type": "execute_result"
    }
   ],
   "source": [
    "X"
   ]
  },
  {
   "cell_type": "code",
   "execution_count": 6,
   "metadata": {
    "colab": {
     "base_uri": "https://localhost:8080/"
    },
    "executionInfo": {
     "elapsed": 5,
     "status": "ok",
     "timestamp": 1730136774586,
     "user": {
      "displayName": "Ilja Rasin",
      "userId": "18166776380552111636"
     },
     "user_tz": -60
    },
    "id": "Y80ILHwyrDmp",
    "outputId": "cbacdace-d1a4-4ff7-ae0a-1ad3505e9fb2"
   },
   "outputs": [
    {
     "data": {
      "text/plain": [
       "array([ 1.,  2.,  3.,  4.,  5.,  6.,  7.,  8.,  9., 10.], dtype=float32)"
      ]
     },
     "execution_count": 6,
     "metadata": {},
     "output_type": "execute_result"
    }
   ],
   "source": [
    "X = np.arange(1,11).astype(np.float32)\n",
    "X"
   ]
  },
  {
   "cell_type": "code",
   "execution_count": 7,
   "metadata": {
    "colab": {
     "base_uri": "https://localhost:8080/"
    },
    "executionInfo": {
     "elapsed": 5,
     "status": "ok",
     "timestamp": 1730136775624,
     "user": {
      "displayName": "Ilja Rasin",
      "userId": "18166776380552111636"
     },
     "user_tz": -60
    },
    "id": "gk3n0J1csPrB",
    "outputId": "6e508c52-9a64-4306-fa77-60f2d64bd222"
   },
   "outputs": [
    {
     "data": {
      "text/plain": [
       "array([ 1.,  2.,  3.,  4.,  5.,  6.,  7.,  8.,  9., 10.])"
      ]
     },
     "execution_count": 7,
     "metadata": {},
     "output_type": "execute_result"
    }
   ],
   "source": [
    "np.linspace(1, 10, 10)"
   ]
  },
  {
   "cell_type": "code",
   "execution_count": null,
   "metadata": {
    "id": "AYza_9R1Kz3C"
   },
   "outputs": [],
   "source": []
  },
  {
   "cell_type": "code",
   "execution_count": 8,
   "metadata": {
    "colab": {
     "base_uri": "https://localhost:8080/"
    },
    "executionInfo": {
     "elapsed": 325,
     "status": "ok",
     "timestamp": 1730192998890,
     "user": {
      "displayName": "Roger Briggen",
      "userId": "03435179165522252011"
     },
     "user_tz": -60
    },
    "id": "02u2cCkhC5mt",
    "outputId": "a8fb8b27-3b34-4efb-cb55-5ba198681ed2"
   },
   "outputs": [
    {
     "name": "stdout",
     "output_type": "stream",
     "text": [
      "[np.float32(8.0), np.float32(10.0), np.float32(12.0), np.float32(14.0), np.float32(16.0), np.float32(18.0), np.float32(20.0), np.float32(22.0), np.float32(24.0), np.float32(26.0)]\n"
     ]
    }
   ],
   "source": [
    "# BR: Wir kennen nur X und Y, aber die Parameter 2 und 6 müssen gesucht werden\n",
    "\n",
    "# List comprehension\n",
    "Y = [2*x + 6 for x in X]\n",
    "print(Y)"
   ]
  },
  {
   "cell_type": "markdown",
   "metadata": {
    "id": "oa3-nR9CLIFd"
   },
   "source": [
    "Wir erstellen hier eine Liste.\n",
    "[   ]\n",
    "\n",
    "2*x + 6 für jedes Element x in X"
   ]
  },
  {
   "cell_type": "code",
   "execution_count": 9,
   "metadata": {
    "colab": {
     "base_uri": "https://localhost:8080/"
    },
    "executionInfo": {
     "elapsed": 269,
     "status": "ok",
     "timestamp": 1730137081188,
     "user": {
      "displayName": "Ilja Rasin",
      "userId": "18166776380552111636"
     },
     "user_tz": -60
    },
    "id": "MW7wJO7IRKz9",
    "outputId": "be4dfffa-2411-4c60-bd1f-68f09faa1aae"
   },
   "outputs": [
    {
     "data": {
      "text/plain": [
       "10"
      ]
     },
     "execution_count": 9,
     "metadata": {},
     "output_type": "execute_result"
    }
   ],
   "source": [
    "len(X)"
   ]
  },
  {
   "cell_type": "markdown",
   "metadata": {
    "id": "jBCYT82xRU3Q"
   },
   "source": [
    "(m_deriv\n",
    "b_deriv)\n",
    "m_deriv ist die partielle Ableitung nach m (Gewicht)\n",
    "b_deriv ist --- nach b (Bias)"
   ]
  },
  {
   "cell_type": "markdown",
   "metadata": {
    "id": "qcyTvIVdRCen"
   },
   "source": [
    "$MSE = 1/N\\sum_{i=0} ^N (Y_i - (mX_i + b))^2$\n",
    "\n",
    "\n",
    "\n"
   ]
  },
  {
   "cell_type": "code",
   "execution_count": 10,
   "metadata": {
    "executionInfo": {
     "elapsed": 229,
     "status": "ok",
     "timestamp": 1730194677012,
     "user": {
      "displayName": "Roger Briggen",
      "userId": "03435179165522252011"
     },
     "user_tz": -60
    },
    "id": "NwRMFgkNGdOF"
   },
   "outputs": [],
   "source": [
    "def update_weights(m, b, X, Y, learning_rate):\n",
    "    m_deriv = 0\n",
    "    b_deriv = 0\n",
    "    N = len(X)\n",
    "    # Ableitung MSE\n",
    "    for i in range(N): # pytorch - backward # gradient tape\n",
    "        # Calculate partial derivatives\n",
    "        # -x (innere Ableitung) * 2(y - (mx + b)) (äussere Ableitung)\n",
    "        m_deriv += -2*X[i] * (Y[i] - (m*X[i] + b))\n",
    "\n",
    "        # -2(y - (mx + b))\n",
    "        b_deriv += -2*(Y[i] - (m*X[i] + b))\n",
    "\n",
    "\n",
    "    # We subtract because the derivatives point in direction of steepest ascent\n",
    "    m -= (m_deriv / float(N)) * learning_rate # später - in pytorch step\n",
    "    b -= (b_deriv / float(N)) * learning_rate\n",
    "    history_m.append(m)\n",
    "    history_b.append(b)\n",
    "\n",
    "    return m,b\n"
   ]
  },
  {
   "cell_type": "code",
   "execution_count": 11,
   "metadata": {
    "executionInfo": {
     "elapsed": 249,
     "status": "ok",
     "timestamp": 1730194769033,
     "user": {
      "displayName": "Roger Briggen",
      "userId": "03435179165522252011"
     },
     "user_tz": -60
    },
    "id": "v1OksWbTC5m1"
   },
   "outputs": [],
   "source": [
    "def train(epochs, learning_rate:int)-> tuple[float, float]:\n",
    "    m=0\n",
    "    b=0\n",
    "    for epoch in range(epochs):\n",
    "        # abbruchskriterium - \"early stopping\"\n",
    "        m,b = update_weights(m, b, X, Y, learning_rate)\n",
    "        if epoch%200==0:\n",
    "          print(f\"Epoch: {epoch}, m: {m}, b: {b}\")\n",
    "    return m,b"
   ]
  },
  {
   "cell_type": "code",
   "execution_count": 12,
   "metadata": {
    "executionInfo": {
     "elapsed": 232,
     "status": "ok",
     "timestamp": 1730194698921,
     "user": {
      "displayName": "Roger Briggen",
      "userId": "03435179165522252011"
     },
     "user_tz": -60
    },
    "id": "K1dfObBvEBZ-"
   },
   "outputs": [],
   "source": [
    "epochs = 3000\n",
    "history_m = []\n",
    "history_b = []"
   ]
  },
  {
   "cell_type": "code",
   "execution_count": 13,
   "metadata": {
    "colab": {
     "base_uri": "https://localhost:8080/"
    },
    "executionInfo": {
     "elapsed": 324,
     "status": "ok",
     "timestamp": 1730195016748,
     "user": {
      "displayName": "Roger Briggen",
      "userId": "03435179165522252011"
     },
     "user_tz": -60
    },
    "id": "4WB7L5zkDmCp",
    "outputId": "c7f4872c-d39c-4754-87cd-555eb7a51723"
   },
   "outputs": [
    {
     "name": "stdout",
     "output_type": "stream",
     "text": [
      "Epoch: 0, m: 2.200000047683716, b: 0.3400000035762787\n",
      "Epoch: 200, m: 2.3450541496276855, b: 3.5977935791015625\n",
      "Epoch: 400, m: 2.148714303970337, b: 4.964677810668945\n",
      "Epoch: 600, m: 2.064094066619873, b: 5.5537872314453125\n",
      "Epoch: 800, m: 2.027623414993286, b: 5.807689666748047\n",
      "Epoch: 1000, m: 2.0119051933288574, b: 5.917117595672607\n",
      "Epoch: 1200, m: 2.0051310062408447, b: 5.964278697967529\n",
      "Epoch: 1400, m: 2.002211570739746, b: 5.9846038818359375\n",
      "Epoch: 1600, m: 2.000953197479248, b: 5.993364334106445\n",
      "Epoch: 1800, m: 2.000410795211792, b: 5.9971394538879395\n",
      "Epoch: 2000, m: 2.0001773834228516, b: 5.99876594543457\n",
      "Epoch: 2200, m: 2.0000767707824707, b: 5.999466896057129\n",
      "Epoch: 2400, m: 2.0000336170196533, b: 5.9997663497924805\n",
      "Epoch: 2600, m: 2.0000152587890625, b: 5.999893665313721\n",
      "Epoch: 2800, m: 2.0000085830688477, b: 5.999941349029541\n"
     ]
    },
    {
     "data": {
      "text/plain": [
       "(np.float32(2.0000086), np.float32(5.9999413))"
      ]
     },
     "execution_count": 13,
     "metadata": {},
     "output_type": "execute_result"
    }
   ],
   "source": [
    "train(epochs, learning_rate=1e-2)"
   ]
  },
  {
   "cell_type": "code",
   "execution_count": 14,
   "metadata": {
    "colab": {
     "base_uri": "https://localhost:8080/"
    },
    "executionInfo": {
     "elapsed": 6,
     "status": "ok",
     "timestamp": 1730137134120,
     "user": {
      "displayName": "Ilja Rasin",
      "userId": "18166776380552111636"
     },
     "user_tz": -60
    },
    "id": "X2aYNirqC5m_",
    "outputId": "baf99679-4bc2-431d-b408-60f626174152"
   },
   "outputs": [
    {
     "data": {
      "text/plain": [
       "np.float32(2.0976305)"
      ]
     },
     "execution_count": 14,
     "metadata": {},
     "output_type": "execute_result"
    }
   ],
   "source": [
    "history_m[500]"
   ]
  },
  {
   "cell_type": "code",
   "execution_count": 15,
   "metadata": {
    "colab": {
     "base_uri": "https://localhost:8080/"
    },
    "executionInfo": {
     "elapsed": 6,
     "status": "ok",
     "timestamp": 1730137135218,
     "user": {
      "displayName": "Ilja Rasin",
      "userId": "18166776380552111636"
     },
     "user_tz": -60
    },
    "id": "3iveKxlzC5nE",
    "outputId": "3b22320a-2873-4dea-a60e-59aba4570b7f"
   },
   "outputs": [
    {
     "data": {
      "text/plain": [
       "np.float32(5.9987607)"
      ]
     },
     "execution_count": 15,
     "metadata": {},
     "output_type": "execute_result"
    }
   ],
   "source": [
    "history_b[1999]"
   ]
  },
  {
   "cell_type": "code",
   "execution_count": 16,
   "metadata": {
    "id": "nFweka_OC5nL"
   },
   "outputs": [
    {
     "name": "stdout",
     "output_type": "stream",
     "text": [
      "Requirement already satisfied: matplotlib in c:\\users\\roger\\appdata\\local\\packages\\pythonsoftwarefoundation.python.3.9_qbz5n2kfra8p0\\localcache\\local-packages\\python39\\site-packages (3.9.2)\n",
      "Requirement already satisfied: contourpy>=1.0.1 in c:\\users\\roger\\appdata\\local\\packages\\pythonsoftwarefoundation.python.3.9_qbz5n2kfra8p0\\localcache\\local-packages\\python39\\site-packages (from matplotlib) (1.3.0)\n",
      "Requirement already satisfied: cycler>=0.10 in c:\\users\\roger\\appdata\\local\\packages\\pythonsoftwarefoundation.python.3.9_qbz5n2kfra8p0\\localcache\\local-packages\\python39\\site-packages (from matplotlib) (0.12.1)\n",
      "Requirement already satisfied: fonttools>=4.22.0 in c:\\users\\roger\\appdata\\local\\packages\\pythonsoftwarefoundation.python.3.9_qbz5n2kfra8p0\\localcache\\local-packages\\python39\\site-packages (from matplotlib) (4.54.1)\n",
      "Requirement already satisfied: kiwisolver>=1.3.1 in c:\\users\\roger\\appdata\\local\\packages\\pythonsoftwarefoundation.python.3.9_qbz5n2kfra8p0\\localcache\\local-packages\\python39\\site-packages (from matplotlib) (1.4.7)\n",
      "Requirement already satisfied: numpy>=1.23 in c:\\users\\roger\\appdata\\local\\packages\\pythonsoftwarefoundation.python.3.9_qbz5n2kfra8p0\\localcache\\local-packages\\python39\\site-packages (from matplotlib) (2.0.2)\n",
      "Requirement already satisfied: packaging>=20.0 in c:\\users\\roger\\appdata\\local\\packages\\pythonsoftwarefoundation.python.3.9_qbz5n2kfra8p0\\localcache\\local-packages\\python39\\site-packages (from matplotlib) (24.1)\n",
      "Requirement already satisfied: pillow>=8 in c:\\users\\roger\\appdata\\local\\packages\\pythonsoftwarefoundation.python.3.9_qbz5n2kfra8p0\\localcache\\local-packages\\python39\\site-packages (from matplotlib) (11.0.0)\n",
      "Requirement already satisfied: pyparsing>=2.3.1 in c:\\users\\roger\\appdata\\local\\packages\\pythonsoftwarefoundation.python.3.9_qbz5n2kfra8p0\\localcache\\local-packages\\python39\\site-packages (from matplotlib) (3.2.0)\n",
      "Requirement already satisfied: python-dateutil>=2.7 in c:\\users\\roger\\appdata\\local\\packages\\pythonsoftwarefoundation.python.3.9_qbz5n2kfra8p0\\localcache\\local-packages\\python39\\site-packages (from matplotlib) (2.9.0.post0)\n",
      "Requirement already satisfied: importlib-resources>=3.2.0 in c:\\users\\roger\\appdata\\local\\packages\\pythonsoftwarefoundation.python.3.9_qbz5n2kfra8p0\\localcache\\local-packages\\python39\\site-packages (from matplotlib) (6.4.5)\n",
      "Requirement already satisfied: zipp>=3.1.0 in c:\\users\\roger\\appdata\\local\\packages\\pythonsoftwarefoundation.python.3.9_qbz5n2kfra8p0\\localcache\\local-packages\\python39\\site-packages (from importlib-resources>=3.2.0->matplotlib) (3.20.2)\n",
      "Requirement already satisfied: six>=1.5 in c:\\users\\roger\\appdata\\local\\packages\\pythonsoftwarefoundation.python.3.9_qbz5n2kfra8p0\\localcache\\local-packages\\python39\\site-packages (from python-dateutil>=2.7->matplotlib) (1.16.0)\n",
      "Note: you may need to restart the kernel to use updated packages.\n"
     ]
    }
   ],
   "source": [
    "\n",
    "%pip install matplotlib\n",
    "import matplotlib.pyplot as plt\n",
    "plt.rcdefaults()\n",
    "from pylab import rcParams\n",
    "%matplotlib inline"
   ]
  },
  {
   "cell_type": "code",
   "execution_count": 18,
   "metadata": {
    "colab": {
     "base_uri": "https://localhost:8080/",
     "height": 706
    },
    "executionInfo": {
     "elapsed": 488,
     "status": "ok",
     "timestamp": 1730137141420,
     "user": {
      "displayName": "Ilja Rasin",
      "userId": "18166776380552111636"
     },
     "user_tz": -60
    },
    "id": "8wEgA9THC5nR",
    "outputId": "c7dd2975-e915-47ca-ae6c-4cc99ad3c0ff"
   },
   "outputs": [
    {
     "data": {
      "image/png": "[encoded data removed]",
      "text/plain": [
       "<Figure size 1200x800 with 1 Axes>"
      ]
     },
     "metadata": {},
     "output_type": "display_data"
    }
   ],
   "source": [
    "\n",
    "plt.figure(figsize=(12,8))\n",
    "plt.plot(history_m[0:epochs])\n",
    "plt.plot(history_b[0:epochs])\n",
    "\n",
    "plt.axhline(y=2, xmin=0, xmax=epochs, c='r', linewidth=4,linestyle='--')\n",
    "plt.axhline(y=6, xmin=0, xmax=epochs, c='b', linewidth=4, linestyle=':')\n",
    "plt.ylabel('m',fontsize= 18)\n",
    "plt.xlabel('b',fontsize= 18)\n",
    "plt.legend(['m', 'b'], loc='upper right', fontsize= 18);"
   ]
  },
  {
   "cell_type": "code",
   "execution_count": 20,
   "metadata": {
    "id": "khRjikcVC5nW"
   },
   "outputs": [
    {
     "name": "stdout",
     "output_type": "stream",
     "text": [
      "Collecting torch\n",
      "  Downloading torch-2.5.1-cp39-cp39-win_amd64.whl.metadata (28 kB)\n",
      "Collecting filelock (from torch)\n",
      "  Downloading filelock-3.16.1-py3-none-any.whl.metadata (2.9 kB)\n",
      "Requirement already satisfied: typing-extensions>=4.8.0 in c:\\users\\roger\\appdata\\local\\packages\\pythonsoftwarefoundation.python.3.9_qbz5n2kfra8p0\\localcache\\local-packages\\python39\\site-packages (from torch) (4.12.2)\n",
      "Collecting networkx (from torch)\n",
      "  Downloading networkx-3.2.1-py3-none-any.whl.metadata (5.2 kB)\n",
      "Requirement already satisfied: jinja2 in c:\\users\\roger\\appdata\\local\\packages\\pythonsoftwarefoundation.python.3.9_qbz5n2kfra8p0\\localcache\\local-packages\\python39\\site-packages (from torch) (3.1.4)\n",
      "Collecting fsspec (from torch)\n",
      "  Downloading fsspec-2024.10.0-py3-none-any.whl.metadata (11 kB)\n",
      "Collecting sympy==1.13.1 (from torch)\n",
      "  Downloading sympy-1.13.1-py3-none-any.whl.metadata (12 kB)\n",
      "Collecting mpmath<1.4,>=1.1.0 (from sympy==1.13.1->torch)\n",
      "  Downloading mpmath-1.3.0-py3-none-any.whl.metadata (8.6 kB)\n",
      "Requirement already satisfied: MarkupSafe>=2.0 in c:\\users\\roger\\appdata\\local\\packages\\pythonsoftwarefoundation.python.3.9_qbz5n2kfra8p0\\localcache\\local-packages\\python39\\site-packages (from jinja2->torch) (3.0.2)\n",
      "Downloading torch-2.5.1-cp39-cp39-win_amd64.whl (203.0 MB)\n",
      "   ---------------------------------------- 0.0/203.0 MB ? eta -:--:--\n",
      "   --- ------------------------------------ 18.1/203.0 MB 94.8 MB/s eta 0:00:02\n",
      "   ------- -------------------------------- 38.0/203.0 MB 96.5 MB/s eta 0:00:02\n",
      "   ---------- ----------------------------- 55.3/203.0 MB 88.1 MB/s eta 0:00:02\n",
      "   ------------- -------------------------- 68.7/203.0 MB 82.6 MB/s eta 0:00:02\n",
      "   -------------- ------------------------- 75.8/203.0 MB 73.2 MB/s eta 0:00:02\n",
      "   ---------------- ----------------------- 83.6/203.0 MB 65.8 MB/s eta 0:00:02\n",
      "   ------------------ --------------------- 91.8/203.0 MB 62.3 MB/s eta 0:00:02\n",
      "   ------------------- -------------------- 99.9/203.0 MB 59.0 MB/s eta 0:00:02\n",
      "   -------------------- ------------------ 108.0/203.0 MB 57.0 MB/s eta 0:00:02\n",
      "   ---------------------- ---------------- 116.7/203.0 MB 55.6 MB/s eta 0:00:02\n",
      "   ------------------------ -------------- 126.1/203.0 MB 54.8 MB/s eta 0:00:02\n",
      "   ------------------------- ------------- 134.7/203.0 MB 53.4 MB/s eta 0:00:02\n",
      "   --------------------------- ----------- 142.1/203.0 MB 52.2 MB/s eta 0:00:02\n",
      "   ---------------------------- ---------- 149.7/203.0 MB 50.6 MB/s eta 0:00:02\n",
      "   ------------------------------ -------- 156.5/203.0 MB 49.7 MB/s eta 0:00:01\n",
      "   ------------------------------- ------- 164.6/203.0 MB 49.2 MB/s eta 0:00:01\n",
      "   --------------------------------- ----- 173.0/203.0 MB 48.3 MB/s eta 0:00:01\n",
      "   ----------------------------------- --- 182.2/203.0 MB 48.1 MB/s eta 0:00:01\n",
      "   ------------------------------------ -- 191.6/203.0 MB 47.7 MB/s eta 0:00:01\n",
      "   --------------------------------------  200.5/203.0 MB 47.5 MB/s eta 0:00:01\n",
      "   --------------------------------------  202.9/203.0 MB 47.5 MB/s eta 0:00:01\n",
      "   --------------------------------------- 203.0/203.0 MB 44.6 MB/s eta 0:00:00\n",
      "Downloading sympy-1.13.1-py3-none-any.whl (6.2 MB)\n",
      "   ---------------------------------------- 0.0/6.2 MB ? eta -:--:--\n",
      "   ---------------------------------------- 6.2/6.2 MB 38.0 MB/s eta 0:00:00\n",
      "Downloading filelock-3.16.1-py3-none-any.whl (16 kB)\n",
      "Downloading fsspec-2024.10.0-py3-none-any.whl (179 kB)\n",
      "Downloading networkx-3.2.1-py3-none-any.whl (1.6 MB)\n",
      "   ---------------------------------------- 0.0/1.6 MB ? eta -:--:--\n",
      "   ---------------------------------------- 1.6/1.6 MB 43.3 MB/s eta 0:00:00\n",
      "Downloading mpmath-1.3.0-py3-none-any.whl (536 kB)\n",
      "   ---------------------------------------- 0.0/536.2 kB ? eta -:--:--\n",
      "   ---------------------------------------- 536.2/536.2 kB ? eta 0:00:00\n",
      "Installing collected packages: mpmath, sympy, networkx, fsspec, filelock, torch\n",
      "Successfully installed filelock-3.16.1 fsspec-2024.10.0 mpmath-1.3.0 networkx-3.2.1 sympy-1.13.1 torch-2.5.1\n",
      "Note: you may need to restart the kernel to use updated packages.\n"
     ]
    }
   ],
   "source": [
    "%pip install torch\n",
    "import torch\n",
    "from torch import nn"
   ]
  },
  {
   "cell_type": "code",
   "execution_count": 24,
   "metadata": {
    "colab": {
     "base_uri": "https://localhost:8080/"
    },
    "executionInfo": {
     "elapsed": 394,
     "status": "ok",
     "timestamp": 1730068944131,
     "user": {
      "displayName": "Ilja Rasin",
      "userId": "18166776380552111636"
     },
     "user_tz": -60
    },
    "id": "A3ZE9FHEIvII",
    "outputId": "f188ddf6-a4dc-47e5-e51a-19b3033ffb60"
   },
   "outputs": [
    {
     "data": {
      "text/plain": [
       "(tensor([ 1.0000,  1.0045,  1.0090,  ...,  9.9910,  9.9955, 10.0000]),\n",
       " tensor([ 8.0000,  8.0090,  8.0180,  ..., 25.9820, 25.9910, 26.0000]))"
      ]
     },
     "execution_count": 24,
     "metadata": {},
     "output_type": "execute_result"
    }
   ],
   "source": [
    "X, Y"
   ]
  },
  {
   "cell_type": "markdown",
   "metadata": {
    "id": "gL4MDF9CNi6-"
   },
   "source": [
    "## Mit PyTorch"
   ]
  },
  {
   "cell_type": "code",
   "execution_count": 25,
   "metadata": {
    "colab": {
     "base_uri": "https://localhost:8080/"
    },
    "executionInfo": {
     "elapsed": 829,
     "status": "ok",
     "timestamp": 1730136702176,
     "user": {
      "displayName": "Ilja Rasin",
      "userId": "18166776380552111636"
     },
     "user_tz": -60
    },
    "id": "dLK9ilkHJUUF",
    "outputId": "1818f9b7-a334-4abf-c224-707f0a4c3f79"
   },
   "outputs": [
    {
     "name": "stdout",
     "output_type": "stream",
     "text": [
      "99 2398.699951171875\n",
      "199 571.700927734375\n",
      "299 136.25791931152344\n",
      "399 32.47532653808594\n",
      "499 7.740078926086426\n",
      "599 1.844761848449707\n",
      "699 0.43966662883758545\n",
      "799 0.1047654002904892\n",
      "899 0.02497307024896145\n",
      "999 0.005954334978014231\n",
      "1099 0.0014205145416781306\n",
      "1199 0.00033835158683359623\n",
      "1299 8.105528831947595e-05\n",
      "1399 1.9138187781209126e-05\n",
      "1499 4.569092197925784e-06\n",
      "1599 1.1977117537753657e-06\n",
      "1699 4.0815939428284764e-07\n",
      "1799 4.0815939428284764e-07\n",
      "1899 4.0815939428284764e-07\n",
      "1999 4.0815939428284764e-07\n",
      "Result: y = 5.999966621398926 + 2.000005006790161 x\n"
     ]
    }
   ],
   "source": [
    "# -*- coding: utf-8 -*-\n",
    "import torch\n",
    "import math\n",
    "\n",
    "dtype = torch.float\n",
    "device = \"cuda\" if torch.cuda.is_available() else \"cpu\"\n",
    "torch.set_default_device(device)\n",
    "\n",
    "# Create Tensors to hold input and outputs.\n",
    "# By default, requires_grad=False, which indicates that we do not need to\n",
    "# compute gradients with respect to these Tensors during the backward pass.\n",
    "X = torch.linspace(1, 10, 2000, dtype=dtype)\n",
    "Y = 2*X + 6\n",
    "\n",
    "# Create random Tensors for weights.\n",
    "# 2 weights: y = m + b x\n",
    "# Setting requires_grad=True indicates that we want to compute gradients with\n",
    "# respect to these Tensors during the backward pass.\n",
    "m = torch.randn((), dtype=dtype, requires_grad=True)\n",
    "b = torch.randn((), dtype=dtype, requires_grad=True)\n",
    "\n",
    "learning_rate = 1e-5\n",
    "for t in range(2000):\n",
    "    # Forward pass: compute predicted y using operations on Tensors.\n",
    "    y_pred = m + b * X\n",
    "\n",
    "    # Compute and print loss using operations on Tensors.\n",
    "    # Now loss is a Tensor of shape (1,)\n",
    "    # loss.item() gets the scalar value held in the loss.\n",
    "    # BR: Hier fehlt noch die Divsion durch len (Y)\n",
    "    loss = (y_pred - Y).pow(2).sum()\n",
    "    if t % 100 == 99:\n",
    "        print(t, loss.item())\n",
    "\n",
    "    # Use autograd to compute the backward pass. This call will compute the\n",
    "    # gradient of loss with respect to all Tensors with requires_grad=True.\n",
    "    # After this call a.grad, b.grad. c.grad and d.grad will be Tensors holding\n",
    "    # the gradient of the loss with respect to a, b, c, d respectively.\n",
    "    loss.backward()\n",
    "\n",
    "    # Manually update weights using gradient descent. Wrap in torch.no_grad()\n",
    "    # because weights have requires_grad=True, but we don't need to track this\n",
    "    # in autograd.\n",
    "    with torch.no_grad():\n",
    "        m -= learning_rate * m.grad\n",
    "        b -= learning_rate * b.grad\n",
    "\n",
    "\n",
    "        # Manually zero the gradients after updating weights\n",
    "        m.grad = None\n",
    "        b.grad = None\n",
    "\n",
    "\n",
    "print(f'Result: y = {m.item()} + {b.item()} x')"
   ]
  },
  {
   "cell_type": "code",
   "execution_count": null,
   "metadata": {
    "id": "1Phh-x5BUUZ5"
   },
   "outputs": [],
   "source": []
  },
  {
   "cell_type": "markdown",
   "metadata": {
    "id": "1M7iAnRRUWCX"
   },
   "source": []
  },
  {
   "cell_type": "markdown",
   "metadata": {
    "id": "jyuKTMtoUWct"
   },
   "source": [
    "## Übung Mit PyTorch"
   ]
  },
  {
   "cell_type": "code",
   "execution_count": 26,
   "metadata": {
    "colab": {
     "base_uri": "https://localhost:8080/"
    },
    "executionInfo": {
     "elapsed": 1030,
     "status": "ok",
     "timestamp": 1730207683471,
     "user": {
      "displayName": "Roger Briggen",
      "userId": "03435179165522252011"
     },
     "user_tz": -60
    },
    "id": "q4TxCCXyUWct",
    "outputId": "c8e9dc15-e2de-46e5-a4e5-ea2dfe646100"
   },
   "outputs": [
    {
     "name": "stdout",
     "output_type": "stream",
     "text": [
      "99 1104118.25\n",
      "199 810628.125\n",
      "299 595259.1875\n",
      "399 437216.90625\n",
      "499 321241.78125\n",
      "599 236136.140625\n",
      "699 173683.28125\n",
      "799 127852.9921875\n",
      "899 94221.1640625\n",
      "999 69540.5\n",
      "1099 51428.0234375\n",
      "1199 38135.83203125\n",
      "1299 28380.599609375\n",
      "1399 21221.013671875\n",
      "1499 15966.12109375\n",
      "1599 12108.833984375\n",
      "1699 9277.25\n",
      "1799 7198.3349609375\n",
      "1899 5671.6845703125\n",
      "1999 4550.3232421875\n",
      "Result: y = 2.186232566833496 +  1.7491642236709595 + 3.106046199798584 x\n"
     ]
    }
   ],
   "source": [
    "# -*- coding: utf-8 -*-\n",
    "import torch\n",
    "import math\n",
    "\n",
    "# Eigene function definieren mit ZWEI vars\n",
    "# Andere X und Y werte\n",
    "# LR varieren und das training beobachten (zu hohe, zu niedrige LR)\n",
    "# Macht ein LR range [from, to] - z.B. for loop\n",
    "#   nimmt das beste LR (minimaler Loss, keine NaNs)\n",
    "#   \"Grid Search\n",
    "# Plot die wahre und die predictete Funtionen gegeneinander\n",
    "\n",
    "dtype = torch.float\n",
    "device = \"cuda\" if torch.cuda.is_available() else \"cpu\"\n",
    "torch.set_default_device(device)\n",
    "\n",
    "# Create Tensors to hold input and outputs.\n",
    "# By default, requires_grad=False, which indicates that we do not need to\n",
    "# compute gradients with respect to these Tensors during the backward pass.\n",
    "X = torch.linspace(1, 10, 2000, dtype=dtype)\n",
    "Z = torch.linspace(1, 10, 2000, dtype=dtype)\n",
    "#Y = 2*X + 6\n",
    "Y = 2*X + Z + 6\n",
    "\n",
    "# Create random Tensors for weights.\n",
    "# 2 weights: y = m + b x\n",
    "# 2 weights: y = m + b x\n",
    "# Setting requires_grad=True indicates that we want to compute gradients with\n",
    "# respect to these Tensors during the backward pass.\n",
    "m1 = torch.randn((), dtype=dtype, requires_grad=True)\n",
    "m2 = torch.randn((), dtype=dtype, requires_grad=True)\n",
    "b = torch.randn((), dtype=dtype, requires_grad=True)\n",
    "\n",
    "learning_rate = 1e-8\n",
    "for t in range(2000):\n",
    "    # Forward pass: compute predicted y using operations on Tensors.\n",
    "    y_pred = m1 + m2 + b * X\n",
    "\n",
    "    # Compute and print loss using operations on Tensors.\n",
    "    # Now loss is a Tensor of shape (1,)\n",
    "    # loss.item() gets the scalar value held in the loss.\n",
    "    # BR: Hier fehlt noch die Divsion durch len (Y)\n",
    "    loss = (y_pred - Y).pow(2).sum()\n",
    "    if t % 100 == 99:\n",
    "        print(t, loss.item())\n",
    "\n",
    "    # Use autograd to compute the backward pass. This call will compute the\n",
    "    # gradient of loss with respect to all Tensors with requires_grad=True.\n",
    "    # After this call a.grad, b.grad. c.grad and d.grad will be Tensors holding\n",
    "    # the gradient of the loss with respect to a, b, c, d respectively.\n",
    "    loss.backward()\n",
    "\n",
    "    # Manually update weights using gradient descent. Wrap in torch.no_grad()\n",
    "    # because weights have requires_grad=True, but we don't need to track this\n",
    "    # in autograd.\n",
    "    with torch.no_grad():\n",
    "        m1 -= learning_rate * m1.grad\n",
    "        m2 -= learning_rate * m2.grad\n",
    "        b -= learning_rate * b.grad\n",
    "\n",
    "\n",
    "        # Manually zero the gradients after updating weights\n",
    "        m1.grad = None\n",
    "        m2.grad = None\n",
    "        b.grad = None\n",
    "\n",
    "\n",
    "print(f'Result: y = {m1.item()} +  {m2.item()} + {b.item()} x')"
   ]
  },
  {
   "cell_type": "markdown",
   "metadata": {
    "id": "PZq2r2jiWQT-"
   },
   "source": [
    "Wenn die Learning Rate kleiner wird und Epoch bleibt, dann wird das Resultat ungenauer. Wenn die Learning Rate zu gross (-4), dann gibt es nan."
   ]
  },
  {
   "cell_type": "markdown",
   "metadata": {
    "id": "lkGInNnhDiVb"
   },
   "source": [
    "## Mit PyTorch und für komplexe nicht-lineare Funktion\n"
   ]
  },
  {
   "cell_type": "code",
   "execution_count": 27,
   "metadata": {
    "colab": {
     "base_uri": "https://localhost:8080/"
    },
    "executionInfo": {
     "elapsed": 1157,
     "status": "ok",
     "timestamp": 1730137715751,
     "user": {
      "displayName": "Ilja Rasin",
      "userId": "18166776380552111636"
     },
     "user_tz": -60
    },
    "id": "3NDW6V3BNyhe",
    "outputId": "aa377b62-0875-4205-eb89-c3cb4db30ad9"
   },
   "outputs": [
    {
     "name": "stdout",
     "output_type": "stream",
     "text": [
      "99 632.0022583007812\n",
      "199 449.70477294921875\n",
      "299 320.739013671875\n",
      "399 229.50115966796875\n",
      "499 164.95286560058594\n",
      "599 119.28587341308594\n",
      "699 86.9766845703125\n",
      "799 64.1176986694336\n",
      "899 47.94462585449219\n",
      "999 36.50178527832031\n",
      "1099 28.405597686767578\n",
      "1199 22.67722511291504\n",
      "1299 18.624116897583008\n",
      "1399 15.756319999694824\n",
      "1499 13.727170944213867\n",
      "1599 12.29141616821289\n",
      "1699 11.275510787963867\n",
      "1799 10.556674003601074\n",
      "1899 10.048039436340332\n",
      "1999 9.688135147094727\n",
      "Result: y = -0.03122152015566826 + 0.8558003902435303 x + 0.005386229604482651 x^2 + -0.09319661557674408 x^3\n"
     ]
    }
   ],
   "source": [
    "# -*- coding: utf-8 -*-\n",
    "import torch\n",
    "import math\n",
    "\n",
    "dtype = torch.float\n",
    "device = \"cuda\" if torch.cuda.is_available() else \"cpu\"\n",
    "torch.set_default_device(device)\n",
    "\n",
    "# Create Tensors to hold input and outputs.\n",
    "# By default, requires_grad=False, which indicates that we do not need to\n",
    "# compute gradients with respect to these Tensors during the backward pass.\n",
    "x = torch.linspace(-math.pi, math.pi, 2000, dtype=dtype)\n",
    "y = torch.sin(x)\n",
    "\n",
    "# 1. define own non-linear fucnction\n",
    "# 2. 5 weights y = a + b x + c x2 + d x3 + e x4\n",
    "# 3. all cases from here and downwards (without nn module)l\n",
    "# 4. plot the results in each case real function vs approximation\n",
    "\n",
    "# Create random Tensors for weights. For a third order polynomial, we need\n",
    "# 4 weights: y = a + b x + c x^2 + d x^3\n",
    "# Setting requires_grad=True indicates that we want to compute gradients with\n",
    "# respect to these Tensors during the backward pass.\n",
    "a = torch.randn((), dtype=dtype, requires_grad=True)\n",
    "b = torch.randn((), dtype=dtype, requires_grad=True)\n",
    "c = torch.randn((), dtype=dtype, requires_grad=True)\n",
    "d = torch.randn((), dtype=dtype, requires_grad=True)\n",
    "\n",
    "learning_rate = 1e-6\n",
    "for t in range(2000):\n",
    "    # Forward pass: compute predicted y using operations on Tensors.\n",
    "    y_pred = a + b * x + c * x ** 2 + d * x ** 3\n",
    "\n",
    "    # Compute and print loss using operations on Tensors.\n",
    "    # Now loss is a Tensor of shape (1,)\n",
    "    # loss.item() gets the scalar value held in the loss.\n",
    "    loss = (y_pred - y).pow(2).sum()\n",
    "    if t % 100 == 99:\n",
    "        print(t, loss.item())\n",
    "\n",
    "    # Use autograd to compute the backward pass. This call will compute the\n",
    "    # gradient of loss with respect to all Tensors with requires_grad=True.\n",
    "    # After this call a.grad, b.grad. c.grad and d.grad will be Tensors holding\n",
    "    # the gradient of the loss with respect to a, b, c, d respectively.\n",
    "    loss.backward()\n",
    "\n",
    "    # Manually update weights using gradient descent. Wrap in torch.no_grad()\n",
    "    # because weights have requires_grad=True, but we don't need to track this\n",
    "    # in autograd.\n",
    "    with torch.no_grad():\n",
    "        a -= learning_rate * a.grad\n",
    "        b -= learning_rate * b.grad\n",
    "        c -= learning_rate * c.grad\n",
    "        d -= learning_rate * d.grad\n",
    "\n",
    "        # Manually zero the gradients after updating weights\n",
    "        a.grad = None\n",
    "        b.grad = None\n",
    "        c.grad = None\n",
    "        d.grad = None\n",
    "\n",
    "print(f'Result: y = {a.item()} + {b.item()} x + {c.item()} x^2 + {d.item()} x^3')"
   ]
  },
  {
   "cell_type": "code",
   "execution_count": null,
   "metadata": {
    "id": "EJmFxSFmHV4A"
   },
   "outputs": [],
   "source": [
    "\n"
   ]
  },
  {
   "cell_type": "code",
   "execution_count": null,
   "metadata": {
    "colab": {
     "base_uri": "https://localhost:8080/",
     "height": 211
    },
    "executionInfo": {
     "elapsed": 280,
     "status": "error",
     "timestamp": 1730204484743,
     "user": {
      "displayName": "Roger Briggen",
      "userId": "03435179165522252011"
     },
     "user_tz": -60
    },
    "id": "N3ev7LTCOTCU",
    "outputId": "093b92b4-ed4f-4165-db3d-45731f5f2725"
   },
   "outputs": [],
   "source": [
    "\n"
   ]
  },
  {
   "cell_type": "code",
   "execution_count": null,
   "metadata": {
    "id": "GG5ZjXJsHh79"
   },
   "outputs": [],
   "source": []
  },
  {
   "cell_type": "markdown",
   "metadata": {
    "id": "Gz_FnShuHkGo"
   },
   "source": []
  },
  {
   "cell_type": "markdown",
   "metadata": {
    "id": "L5Oz-hFBHkrO"
   },
   "source": [
    "## Übung Mit PyTorch und für komplexe nicht-lineare Funktion\n"
   ]
  },
  {
   "cell_type": "code",
   "execution_count": 28,
   "metadata": {
    "colab": {
     "base_uri": "https://localhost:8080/"
    },
    "executionInfo": {
     "elapsed": 7880,
     "status": "ok",
     "timestamp": 1730205212184,
     "user": {
      "displayName": "Roger Briggen",
      "userId": "03435179165522252011"
     },
     "user_tz": -60
    },
    "id": "7cvpR6y0HkrP",
    "outputId": "00f0e39e-7b1a-446a-ff3b-3f662cad7b93"
   },
   "outputs": [
    {
     "name": "stdout",
     "output_type": "stream",
     "text": [
      "99 10373.5927734375\n",
      "199 10008.140625\n",
      "299 9661.642578125\n",
      "399 9329.568359375\n",
      "499 9011.279296875\n",
      "599 8706.228515625\n",
      "699 8413.830078125\n",
      "799 8133.54443359375\n",
      "899 7864.85595703125\n",
      "999 7607.2705078125\n",
      "1099 7360.31298828125\n",
      "1199 7123.533203125\n",
      "1299 6896.4951171875\n",
      "1399 6678.78515625\n",
      "1499 6470.00390625\n",
      "1599 6269.7734375\n",
      "1699 6077.72705078125\n",
      "1799 5893.5205078125\n",
      "1899 5716.81591796875\n",
      "1999 5547.294921875\n",
      "2099 5384.654296875\n",
      "2199 5228.5986328125\n",
      "2299 5078.85009765625\n",
      "2399 4935.13916015625\n",
      "2499 4797.2099609375\n",
      "2599 4664.8173828125\n",
      "2699 4537.724609375\n",
      "2799 4415.7080078125\n",
      "2899 4298.5517578125\n",
      "2999 4186.0498046875\n",
      "3099 4078.004638671875\n",
      "3199 3974.227294921875\n",
      "3299 3874.537109375\n",
      "3399 3778.760986328125\n",
      "3499 3686.73291015625\n",
      "3599 3598.294677734375\n",
      "3699 3513.2939453125\n",
      "3799 3431.585693359375\n",
      "3899 3353.0302734375\n",
      "3999 3277.49560546875\n",
      "4099 3204.852783203125\n",
      "4199 3134.980712890625\n",
      "4299 3067.762451171875\n",
      "4399 3003.0859375\n",
      "4499 2940.844482421875\n",
      "4599 2880.93505859375\n",
      "4699 2823.259765625\n",
      "4799 2767.724853515625\n",
      "4899 2714.240234375\n",
      "4999 2662.719970703125\n",
      "5099 2613.08154296875\n",
      "5199 2565.246826171875\n",
      "5299 2519.138671875\n",
      "5399 2474.686767578125\n",
      "5499 2431.81982421875\n",
      "5599 2390.473388671875\n",
      "5699 2350.583740234375\n",
      "5799 2312.089111328125\n",
      "5899 2274.9326171875\n",
      "5999 2239.05810546875\n",
      "6099 2204.412109375\n",
      "6199 2170.9443359375\n",
      "6299 2138.605224609375\n",
      "6399 2107.3486328125\n",
      "6499 2077.129150390625\n",
      "6599 2047.90478515625\n",
      "6699 2019.6337890625\n",
      "6799 1992.277587890625\n",
      "6899 1965.79833984375\n",
      "6999 1940.159423828125\n",
      "7099 1915.32666015625\n",
      "7199 1891.2677001953125\n",
      "7299 1867.95068359375\n",
      "7399 1845.3450927734375\n",
      "7499 1823.4219970703125\n",
      "7599 1802.1539306640625\n",
      "7699 1781.5142822265625\n",
      "7799 1761.4775390625\n",
      "7899 1742.01953125\n",
      "7999 1723.116943359375\n",
      "8099 1704.746826171875\n",
      "8199 1686.8892822265625\n",
      "8299 1669.5224609375\n",
      "8399 1652.62744140625\n",
      "8499 1636.18505859375\n",
      "8599 1620.1778564453125\n",
      "8699 1604.5889892578125\n",
      "8799 1589.4005126953125\n",
      "8899 1574.597900390625\n",
      "8999 1560.16552734375\n",
      "9099 1546.0889892578125\n",
      "9199 1532.3544921875\n",
      "9299 1518.9488525390625\n",
      "9399 1505.859619140625\n",
      "9499 1493.0743408203125\n",
      "9599 1480.5810546875\n",
      "9699 1468.3687744140625\n",
      "9799 1456.427001953125\n",
      "9899 1444.7457275390625\n",
      "9999 1433.314453125\n",
      "Result: y = -0.22928167879581451 + 0.03914814442396164 x + 1.100721836090088 x^2 + 0.1626608818769455 x^3 + 0.0010968201095238328 x^4\n"
     ]
    }
   ],
   "source": [
    "# -*- coding: utf-8 -*-\n",
    "import torch\n",
    "import math\n",
    "\n",
    "dtype = torch.float\n",
    "device = \"cuda\" if torch.cuda.is_available() else \"cpu\"\n",
    "torch.set_default_device(device)\n",
    "\n",
    "# Create Tensors to hold input and outputs.\n",
    "# By default, requires_grad=False, which indicates that we do not need to\n",
    "# compute gradients with respect to these Tensors during the backward pass.\n",
    "#x = torch.linspace(-math.pi, math.pi, 2000, dtype=dtype)\n",
    "x = torch.linspace(-5, 5, 100, dtype=dtype)\n",
    "#x = torch.tensor([2.0])\n",
    "# y = torch.cos(x)\n",
    "y = x.pow(2) + 3 * x + 2\n",
    "\n",
    "# 1. define own non-linear funcction\n",
    "# 2. 5 weights y = a + b x + c x2 + d x3 + e x4\n",
    "# 3. all cases from here and downwards (without nn module)l\n",
    "# 4. plot the results in each case real function vs approximation\n",
    "\n",
    "# Create random Tensors for weights. For a third order polynomial, we need\n",
    "# 4 weights: y = a + b x + c x^2 + d x^3\n",
    "# Setting requires_grad=True indicates that we want to compute gradients with\n",
    "# respect to these Tensors during the backward pass.\n",
    "#Pascal, Ändu, Mäk, Peter,\n",
    "a = torch.randn((), dtype=dtype, requires_grad=True)\n",
    "b = torch.randn((), dtype=dtype, requires_grad=True)\n",
    "c = torch.randn((), dtype=dtype, requires_grad=True)\n",
    "d = torch.randn((), dtype=dtype, requires_grad=True)\n",
    "e = torch.randn((), dtype=dtype, requires_grad=True)\n",
    "\n",
    "learning_rate = 1e-7\n",
    "for t in range(10000):\n",
    "    # Forward pass: compute predicted y using operations on Tensors.\n",
    "    y_pred = a + b * x + c * x ** 2 + d * x ** 3 + e * x ** 4\n",
    "\n",
    "    # Compute and print loss using operations on Tensors.\n",
    "    # Now loss is a Tensor of shape (1,)\n",
    "    # loss.item() gets the scalar value held in the loss.\n",
    "    loss = (y_pred - y).pow(2).sum()\n",
    "    if t % 100 == 99:\n",
    "        print(t, loss.item())\n",
    "\n",
    "    # Use autograd to compute the backward pass. This call will compute the\n",
    "    # gradient of loss with respect to all Tensors with requires_grad=True.\n",
    "    # After this call a.grad, b.grad. c.grad and d.grad will be Tensors holding\n",
    "    # the gradient of the loss with respect to a, b, c, d respectively.\n",
    "    loss.backward()\n",
    "\n",
    "    # Manually update weights using gradient descent. Wrap in torch.no_grad()\n",
    "    # because weights have requires_grad=True, but we don't need to track this\n",
    "    # in autograd.\n",
    "    with torch.no_grad():\n",
    "        a -= learning_rate * a.grad\n",
    "        b -= learning_rate * b.grad\n",
    "        c -= learning_rate * c.grad\n",
    "        d -= learning_rate * d.grad\n",
    "        e -= learning_rate * e.grad\n",
    "\n",
    "        # Manually zero the gradients after updating weights\n",
    "        a.grad = None\n",
    "        b.grad = None\n",
    "        c.grad = None\n",
    "        d.grad = None\n",
    "        e.grad = None\n",
    "\n",
    "print(f'Result: y = {a.item()} + {b.item()} x + {c.item()} x^2 + {d.item()} x^3 + {e.item()} x^4')"
   ]
  },
  {
   "cell_type": "code",
   "execution_count": 35,
   "metadata": {
    "colab": {
     "base_uri": "https://localhost:8080/",
     "height": 421
    },
    "executionInfo": {
     "elapsed": 692,
     "status": "ok",
     "timestamp": 1730205601894,
     "user": {
      "displayName": "Roger Briggen",
      "userId": "03435179165522252011"
     },
     "user_tz": -60
    },
    "id": "KTfDBv1yHkrP",
    "outputId": "c7a687ce-317a-434b-9a16-a87cc114f4b3"
   },
   "outputs": [
    {
     "data": {
      "image/png": "[encoded data removed]",
      "text/plain": [
       "<Figure size 1000x600 with 1 Axes>"
      ]
     },
     "metadata": {},
     "output_type": "display_data"
    }
   ],
   "source": [
    "import numpy as np\n",
    "import matplotlib.pyplot as plt\n",
    "\n",
    "# Define the formula as a function\n",
    "def polynomial(x):\n",
    "    return (a.item()\n",
    "            + b.item() * x\n",
    "            + c.item() * x**2\n",
    "            + d.item() * x**3\n",
    "            + e.item() * x**4)\n",
    "\n",
    "def polynomialOpt(x):\n",
    "    return ( x**2 + 3 * x + 2 )\n",
    "\n",
    "# Define a range for x values and compute y values accordingly\n",
    "x_values = np.linspace(-10, 10, 400)  # Chose range -2 to 2 based on typical polynomial behavior\n",
    "y_values = polynomial(x_values)\n",
    "y_values_opt = polynomialOpt(x_values)\n",
    "\n",
    "# Plot the function\n",
    "plt.figure(figsize=(10, 6))\n",
    "plt.plot(x_values, y_values, label=f'Result: y = {a.item()} + {b.item()} x + {c.item()} x^2 + {d.item()} x^3 + {e.item()} x^4')\n",
    "plt.plot(x_values, y_values_opt)\n",
    "plt.xlabel(\"x\")\n",
    "plt.ylabel(\"y\")\n",
    "plt.title(\"Plot of y as a function of x for given polynomial\")\n",
    "plt.legend()\n",
    "plt.grid(True)\n",
    "plt.show()"
   ]
  },
  {
   "cell_type": "markdown",
   "metadata": {
    "id": "Mw4G4NIKOHgl"
   },
   "source": [
    "## Mit PyTorch und nn module"
   ]
  },
  {
   "cell_type": "code",
   "execution_count": 38,
   "metadata": {
    "id": "yzSqgyQBN0jC"
   },
   "outputs": [],
   "source": [
    "# -*- coding: utf-8 -*-\n",
    "import torch\n",
    "import math\n",
    "\n",
    "\n",
    "# Create Tensors to hold input and outputs.\n",
    "x = torch.linspace(-math.pi, math.pi, 2000)\n",
    "y = torch.sin(x)"
   ]
  },
  {
   "cell_type": "code",
   "execution_count": 30,
   "metadata": {
    "colab": {
     "base_uri": "https://localhost:8080/"
    },
    "executionInfo": {
     "elapsed": 265,
     "status": "ok",
     "timestamp": 1730137430294,
     "user": {
      "displayName": "Ilja Rasin",
      "userId": "18166776380552111636"
     },
     "user_tz": -60
    },
    "id": "EcpHODHPOgiX",
    "outputId": "e0457ebf-bdcf-47cf-8328-2bd9a5b9f108"
   },
   "outputs": [
    {
     "data": {
      "text/plain": [
       "torch.Size([2000])"
      ]
     },
     "execution_count": 30,
     "metadata": {},
     "output_type": "execute_result"
    }
   ],
   "source": [
    "x.shape"
   ]
  },
  {
   "cell_type": "code",
   "execution_count": 39,
   "metadata": {
    "colab": {
     "base_uri": "https://localhost:8080/"
    },
    "executionInfo": {
     "elapsed": 277,
     "status": "ok",
     "timestamp": 1730137520313,
     "user": {
      "displayName": "Ilja Rasin",
      "userId": "18166776380552111636"
     },
     "user_tz": -60
    },
    "id": "Cz_tlg8WOnfK",
    "outputId": "c8dd91b3-72e5-4e9e-ac17-1c3ae6702ff3"
   },
   "outputs": [
    {
     "data": {
      "text/plain": [
       "torch.Size([2000, 1])"
      ]
     },
     "execution_count": 39,
     "metadata": {},
     "output_type": "execute_result"
    }
   ],
   "source": [
    "# p = torch.tensor([1, 2, 3])\n",
    "x.unsqueeze(-1).shape"
   ]
  },
  {
   "cell_type": "code",
   "execution_count": 40,
   "metadata": {
    "colab": {
     "base_uri": "https://localhost:8080/"
    },
    "executionInfo": {
     "elapsed": 260,
     "status": "ok",
     "timestamp": 1730137898091,
     "user": {
      "displayName": "Ilja Rasin",
      "userId": "18166776380552111636"
     },
     "user_tz": -60
    },
    "id": "29xCIR99Od-o",
    "outputId": "65dcf527-9748-441e-f784-62b6d1b7a8f5"
   },
   "outputs": [
    {
     "data": {
      "text/plain": [
       "torch.Size([2000, 3])"
      ]
     },
     "execution_count": 40,
     "metadata": {},
     "output_type": "execute_result"
    }
   ],
   "source": [
    "# For this example, the output y is a linear function of (x, x^2, x^3), so\n",
    "# we can consider it as a linear layer neural network. Let's prepare the\n",
    "# tensor (x, x^2, x^3).\n",
    "p = torch.tensor([1, 2, 3])\n",
    "xx = x.unsqueeze(-1).pow(p)\n",
    "xx.shape"
   ]
  },
  {
   "cell_type": "code",
   "execution_count": 44,
   "metadata": {
    "id": "oakQuVmTQVNi"
   },
   "outputs": [],
   "source": [
    "fc = torch.nn.Linear(3, 1)\n",
    "flat = torch.nn.Flatten(0,1)"
   ]
  },
  {
   "cell_type": "code",
   "execution_count": 45,
   "metadata": {
    "colab": {
     "base_uri": "https://localhost:8080/"
    },
    "executionInfo": {
     "elapsed": 7,
     "status": "ok",
     "timestamp": 1730138096155,
     "user": {
      "displayName": "Ilja Rasin",
      "userId": "18166776380552111636"
     },
     "user_tz": -60
    },
    "id": "ZIQXow0yQcy9",
    "outputId": "ce15e279-b32a-47bd-aba7-cdc6d8bafb93"
   },
   "outputs": [
    {
     "data": {
      "text/plain": [
       "torch.Size([2000, 1])"
      ]
     },
     "execution_count": 45,
     "metadata": {},
     "output_type": "execute_result"
    }
   ],
   "source": [
    "out = fc(xx)\n",
    "out.shape"
   ]
  },
  {
   "cell_type": "code",
   "execution_count": 46,
   "metadata": {
    "colab": {
     "base_uri": "https://localhost:8080/"
    },
    "executionInfo": {
     "elapsed": 7,
     "status": "ok",
     "timestamp": 1730138097158,
     "user": {
      "displayName": "Ilja Rasin",
      "userId": "18166776380552111636"
     },
     "user_tz": -60
    },
    "id": "aLflT6QyQsjM",
    "outputId": "5953d563-0f25-4442-a3cc-4b8ec1f9310b"
   },
   "outputs": [
    {
     "data": {
      "text/plain": [
       "torch.Size([2000])"
      ]
     },
     "execution_count": 46,
     "metadata": {},
     "output_type": "execute_result"
    }
   ],
   "source": [
    "flat(out).shape"
   ]
  },
  {
   "cell_type": "code",
   "execution_count": 47,
   "metadata": {
    "colab": {
     "base_uri": "https://localhost:8080/"
    },
    "executionInfo": {
     "elapsed": 1341,
     "status": "ok",
     "timestamp": 1730137784039,
     "user": {
      "displayName": "Ilja Rasin",
      "userId": "18166776380552111636"
     },
     "user_tz": -60
    },
    "id": "9GrNjsQdOSrf",
    "outputId": "7eae3ab6-5295-429f-a46a-120d4a49b375"
   },
   "outputs": [
    {
     "name": "stdout",
     "output_type": "stream",
     "text": [
      "99 555.7418823242188\n",
      "199 371.4017639160156\n",
      "299 249.23455810546875\n",
      "399 168.25917053222656\n",
      "499 114.57797241210938\n",
      "599 78.98490142822266\n",
      "699 55.38071060180664\n",
      "799 39.72419357299805\n",
      "899 29.337114334106445\n",
      "999 22.444473266601562\n",
      "1099 17.869548797607422\n",
      "1199 14.832366943359375\n",
      "1299 12.815468788146973\n",
      "1399 11.475688934326172\n",
      "1499 10.585488319396973\n",
      "1599 9.993810653686523\n",
      "1699 9.600432395935059\n",
      "1799 9.338777542114258\n",
      "1899 9.164685249328613\n",
      "1999 9.048805236816406\n",
      "Result: y = -0.005610628053545952 + 0.8428723216056824 x + 0.0009679266950115561 x^2 + -0.09135770797729492 x^3\n"
     ]
    }
   ],
   "source": [
    "\n",
    "# In the above code, x.unsqueeze(-1) has shape (2000, 1), and p has shape\n",
    "# (3,), for this case, broadcasting semantics will apply to obtain a tensor\n",
    "# of shape (2000, 3)\n",
    "\n",
    "# Use the nn package to define our model as a sequence of layers. nn.Sequential\n",
    "# is a Module which contains other Modules, and applies them in sequence to\n",
    "# produce its output. The Linear Module computes output from input using a\n",
    "# linear function, and holds internal Tensors for its weight and bias.\n",
    "# The Flatten layer flatens the output of the linear layer to a 1D tensor,\n",
    "# to match the shape of `y`.\n",
    "model = torch.nn.Sequential(\n",
    "    torch.nn.Linear(3, 1),\n",
    "    torch.nn.Flatten(0, 1),\n",
    "\n",
    ")\n",
    "\n",
    "# The nn package also contains definitions of popular loss functions; in this\n",
    "# case we will use Mean Squared Error (MSE) as our loss function.\n",
    "loss_fn = torch.nn.MSELoss(reduction='sum')\n",
    "\n",
    "learning_rate = 1e-6\n",
    "for t in range(2000):\n",
    "\n",
    "    # Forward pass: compute predicted y by passing x to the model. Module objects\n",
    "    # override the __call__ operator so you can call them like functions. When\n",
    "    # doing so you pass a Tensor of input data to the Module and it produces\n",
    "    # a Tensor of output data.\n",
    "    y_pred = model(xx)\n",
    "\n",
    "    # Compute and print loss. We pass Tensors containing the predicted and true\n",
    "    # values of y, and the loss function returns a Tensor containing the\n",
    "    # loss.\n",
    "    loss = loss_fn(y_pred, y)\n",
    "    if t % 100 == 99:\n",
    "        print(t, loss.item())\n",
    "\n",
    "    # Zero the gradients before running the backward pass.\n",
    "    model.zero_grad()\n",
    "\n",
    "    # Backward pass: compute gradient of the loss with respect to all the learnable\n",
    "    # parameters of the model. Internally, the parameters of each Module are stored\n",
    "    # in Tensors with requires_grad=True, so this call will compute gradients for\n",
    "    # all learnable parameters in the model.\n",
    "    loss.backward()\n",
    "\n",
    "    # Update the weights using gradient descent. Each parameter is a Tensor, so\n",
    "    # we can access its gradients like we did before.\n",
    "    with torch.no_grad():\n",
    "        for param in model.parameters():\n",
    "            param -= learning_rate * param.grad\n",
    "\n",
    "# You can access the first layer of `model` like accessing the first item of a list\n",
    "linear_layer = model[0]\n",
    "\n",
    "# For linear layer, its parameters are stored as `weight` and `bias`.\n",
    "print(f'Result: y = {linear_layer.bias.item()} + {linear_layer.weight[:, 0].item()} x + {linear_layer.weight[:, 1].item()} x^2 + {linear_layer.weight[:, 2].item()} x^3')"
   ]
  },
  {
   "cell_type": "markdown",
   "metadata": {
    "id": "_SyPKScHS1HJ"
   },
   "source": [
    "## ...mit einem Optimizer"
   ]
  },
  {
   "cell_type": "code",
   "execution_count": 37,
   "metadata": {
    "colab": {
     "base_uri": "https://localhost:8080/"
    },
    "executionInfo": {
     "elapsed": 1855,
     "status": "ok",
     "timestamp": 1730138621339,
     "user": {
      "displayName": "Ilja Rasin",
      "userId": "18166776380552111636"
     },
     "user_tz": -60
    },
    "id": "r_8xGnn9S6Rb",
    "outputId": "06f8d865-bf1a-4e98-9124-a2dcec8149a5"
   },
   "outputs": [
    {
     "name": "stdout",
     "output_type": "stream",
     "text": [
      "99 48071.5546875\n",
      "199 25741.068359375\n",
      "299 12747.9365234375\n",
      "399 5479.43212890625\n",
      "499 2082.614990234375\n",
      "599 956.9146728515625\n",
      "699 725.698486328125\n",
      "799 640.998291015625\n",
      "899 544.5895385742188\n",
      "999 438.15869140625\n",
      "1099 334.73529052734375\n",
      "1199 243.38783264160156\n",
      "1299 167.86854553222656\n",
      "1399 108.80781555175781\n",
      "1499 65.4535140991211\n",
      "1599 36.33442687988281\n",
      "1699 19.32802391052246\n",
      "1799 11.73690128326416\n",
      "1899 9.191413879394531\n",
      "1999 8.864845275878906\n",
      "Result: y = 0.00032599244150333107 + 0.8529368042945862 x + 0.00032593117794021964 x^2 + -0.09245385229587555 x^3\n"
     ]
    }
   ],
   "source": [
    "# -*- coding: utf-8 -*-\n",
    "import torch\n",
    "import math\n",
    "\n",
    "\n",
    "# Create Tensors to hold input and outputs.\n",
    "x = torch.linspace(-math.pi, math.pi, 2000)\n",
    "y = torch.sin(x)\n",
    "\n",
    "# Prepare the input tensor (x, x^2, x^3).\n",
    "p = torch.tensor([1, 2, 3])\n",
    "xx = x.unsqueeze(-1).pow(p)\n",
    "\n",
    "# Use the nn package to define our model and loss function.\n",
    "model = torch.nn.Sequential(\n",
    "    torch.nn.Linear(3, 1),\n",
    "    torch.nn.Flatten(0, 1)\n",
    ")\n",
    "loss_fn = torch.nn.MSELoss(reduction='sum')\n",
    "\n",
    "# Use the optim package to define an Optimizer that will update the weights of\n",
    "# the model for us. Here we will use RMSprop; the optim package contains many other\n",
    "# optimization algorithms. The first argument to the RMSprop constructor tells the\n",
    "# optimizer which Tensors it should update.\n",
    "learning_rate = 1e-3\n",
    "optimizer = torch.optim.RMSprop(model.parameters(), lr=learning_rate)\n",
    "for t in range(2000):\n",
    "    # Forward pass: compute predicted y by passing x to the model.\n",
    "    y_pred = model(xx)\n",
    "\n",
    "    # Compute and print loss.\n",
    "    loss = loss_fn(y_pred, y)\n",
    "    if t % 100 == 99:\n",
    "        print(t, loss.item())\n",
    "\n",
    "    # Before the backward pass, use the optimizer object to zero all of the\n",
    "    # gradients for the variables it will update (which are the learnable\n",
    "    # weights of the model). This is because by default, gradients are\n",
    "    # accumulated in buffers( i.e, not overwritten) whenever .backward()\n",
    "    # is called. Checkout docs of torch.autograd.backward for more details.\n",
    "    optimizer.zero_grad()\n",
    "\n",
    "    # Backward pass: compute gradient of the loss with respect to model\n",
    "    # parameters\n",
    "    loss.backward()\n",
    "\n",
    "    # Calling the step function on an Optimizer makes an update to its\n",
    "    # parameters\n",
    "    optimizer.step()\n",
    "\n",
    "\n",
    "linear_layer = model[0]\n",
    "print(f'Result: y = {linear_layer.bias.item()} + {linear_layer.weight[:, 0].item()} x + {linear_layer.weight[:, 1].item()} x^2 + {linear_layer.weight[:, 2].item()} x^3')"
   ]
  },
  {
   "cell_type": "code",
   "execution_count": null,
   "metadata": {
    "id": "pRWjkrnnO6bQ"
   },
   "outputs": [],
   "source": []
  }
 ],
 "metadata": {
  "colab": {
   "provenance": [
    {
     "file_id": "1AzKyhVESaP9r90WD_Rz-kkLP4dVcFSqU",
     "timestamp": 1730192728381
    }
   ]
  },
  "kernelspec": {
   "display_name": "Python 3",
   "language": "python",
   "name": "python3"
  },
  "language_info": {
   "codemirror_mode": {
    "name": "ipython",
    "version": 3
   },
   "file_extension": ".py",
   "mimetype": "text/x-python",
   "name": "python",
   "nbconvert_exporter": "python",
   "pygments_lexer": "ipython3",
   "version": "3.9.13"
  }
 },
 "nbformat": 4,
 "nbformat_minor": 0
}
